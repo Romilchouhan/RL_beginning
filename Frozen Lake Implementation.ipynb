{
 "cells": [
  {
   "cell_type": "code",
   "execution_count": 1,
   "id": "35ca09a8",
   "metadata": {},
   "outputs": [],
   "source": [
    "import numpy as np\n",
    "import gym\n",
    "import random"
   ]
  },
  {
   "cell_type": "code",
   "execution_count": 11,
   "id": "1735c574",
   "metadata": {},
   "outputs": [
    {
     "name": "stdout",
     "output_type": "stream",
     "text": [
      "0.771320643266746\n"
     ]
    }
   ],
   "source": [
    "rgen = np.random.RandomState(10)\n",
    "number = rgen.uniform(0, 1)\n",
    "print(number)"
   ]
  },
  {
   "cell_type": "markdown",
   "id": "25595e71",
   "metadata": {},
   "source": [
    "# Create the environment"
   ]
  },
  {
   "cell_type": "code",
   "execution_count": 5,
   "id": "1cc90b99",
   "metadata": {},
   "outputs": [
    {
     "name": "stdout",
     "output_type": "stream",
     "text": [
      "\n",
      "\u001b[41mS\u001b[0mFFF\n",
      "FHFH\n",
      "FFFH\n",
      "HFFG\n"
     ]
    }
   ],
   "source": [
    "env = gym.make('FrozenLake-v1')\n",
    "env.render()"
   ]
  },
  {
   "cell_type": "markdown",
   "id": "25ce3712",
   "metadata": {},
   "source": [
    "# Create and Initialise the Q-table"
   ]
  },
  {
   "cell_type": "code",
   "execution_count": 7,
   "id": "b4388f2f",
   "metadata": {},
   "outputs": [
    {
     "name": "stdout",
     "output_type": "stream",
     "text": [
      "Action size  4\n",
      "State size  16\n"
     ]
    }
   ],
   "source": [
    "action_size = env.action_space.n\n",
    "state_size = env.observation_space.n\n",
    "print(f\"Action size \", action_size)\n",
    "print(f\"State size \", state_size)"
   ]
  },
  {
   "cell_type": "code",
   "execution_count": 8,
   "id": "8c42f56f",
   "metadata": {},
   "outputs": [
    {
     "name": "stdout",
     "output_type": "stream",
     "text": [
      "[[0. 0. 0. 0.]\n",
      " [0. 0. 0. 0.]\n",
      " [0. 0. 0. 0.]\n",
      " [0. 0. 0. 0.]\n",
      " [0. 0. 0. 0.]\n",
      " [0. 0. 0. 0.]\n",
      " [0. 0. 0. 0.]\n",
      " [0. 0. 0. 0.]\n",
      " [0. 0. 0. 0.]\n",
      " [0. 0. 0. 0.]\n",
      " [0. 0. 0. 0.]\n",
      " [0. 0. 0. 0.]\n",
      " [0. 0. 0. 0.]\n",
      " [0. 0. 0. 0.]\n",
      " [0. 0. 0. 0.]\n",
      " [0. 0. 0. 0.]]\n"
     ]
    }
   ],
   "source": [
    "# Initialise the Q-table with all Q-values equal to zero\n",
    "q_table = np.zeros([16, 4])\n",
    "print(q_table)"
   ]
  },
  {
   "cell_type": "markdown",
   "id": "9b5bb56b",
   "metadata": {},
   "source": [
    "# Set the hyperparameters"
   ]
  },
  {
   "cell_type": "code",
   "execution_count": 12,
   "id": "205b816b",
   "metadata": {},
   "outputs": [],
   "source": [
    "total_episodes = 50000\n",
    "total_test_episodes = 500\n",
    "max_step = 50                   # Max step per episode\n",
    "\n",
    "# Exploration parameters\n",
    "epsilon = 1.0\n",
    "max_epsilon = 1.0\n",
    "min_epsilon = 0.01\n",
    "decay_rate = 0.002\n",
    "\n",
    "lr = 0.1\n",
    "gamma = 0.7"
   ]
  },
  {
   "cell_type": "markdown",
   "id": "84851639",
   "metadata": {},
   "source": [
    "# Q-learning Algorithm"
   ]
  },
  {
   "cell_type": "code",
   "execution_count": 15,
   "id": "bb74394b",
   "metadata": {},
   "outputs": [],
   "source": [
    "rgen = np.random.RandomState(10)\n",
    "for episode in range(total_episodes):\n",
    "    # Reset the environment\n",
    "    state = env.reset()\n",
    "    step = 0\n",
    "    done = False\n",
    "    \n",
    "    for step in range(max_step):\n",
    "        exp_exp_tradeoff = rgen.uniform(0, 1)\n",
    "        \n",
    "        # if random number > epsilon  --> exploitation \n",
    "        if exp_exp_tradeoff > epsilon: \n",
    "            action = np.argmax(q_table[state, :])\n",
    "        \n",
    "        # else random number < epsilon  --> exploration (choose random action)\n",
    "        else:\n",
    "            action = env.action_space.sample()\n",
    "            \n",
    "        # take the action step and observe new_state(s'), reward(r)\n",
    "        new_state, reward, done, info = env.step(action)\n",
    "        \n",
    "        # Update the old Q-value using Bellman equation\n",
    "        q_table[state, action] = q_table[state, action] + lr * (reward + gamma * np.max(q_table[new_state, :])\n",
    "                                                               - q_table[state, action])\n",
    "        \n",
    "        # our new state is state\n",
    "        state = new_state\n",
    "        \n",
    "        if done:\n",
    "            break\n",
    "    epsilon = epsilon + (max_epsilon - min_epsilon) * np.exp(-decay_rate * episode)"
   ]
  },
  {
   "cell_type": "code",
   "execution_count": 16,
   "id": "648f6293",
   "metadata": {},
   "outputs": [
    {
     "data": {
      "text/plain": [
       "array([[0.00698024, 0.00779654, 0.00732061, 0.00572607],\n",
       "       [0.00333356, 0.00545551, 0.00557616, 0.00735307],\n",
       "       [0.0115958 , 0.01292343, 0.01397237, 0.01070877],\n",
       "       [0.00945361, 0.00662251, 0.00526976, 0.01193429],\n",
       "       [0.01666003, 0.00733042, 0.00768242, 0.00349099],\n",
       "       [0.        , 0.        , 0.        , 0.        ],\n",
       "       [0.03389742, 0.0269729 , 0.03418489, 0.00717712],\n",
       "       [0.        , 0.        , 0.        , 0.        ],\n",
       "       [0.0130157 , 0.03728669, 0.02793467, 0.03347481],\n",
       "       [0.0688232 , 0.0988043 , 0.0873937 , 0.04752867],\n",
       "       [0.11312504, 0.09589984, 0.1461729 , 0.03804186],\n",
       "       [0.        , 0.        , 0.        , 0.        ],\n",
       "       [0.        , 0.        , 0.        , 0.        ],\n",
       "       [0.06867774, 0.22200135, 0.24180905, 0.13540374],\n",
       "       [0.21345554, 0.5732863 , 0.47985008, 0.6090035 ],\n",
       "       [0.        , 0.        , 0.        , 0.        ]])"
      ]
     },
     "execution_count": 16,
     "metadata": {},
     "output_type": "execute_result"
    }
   ],
   "source": [
    "q_table"
   ]
  },
  {
   "cell_type": "markdown",
   "id": "306a81c1",
   "metadata": {},
   "source": [
    "# Use our Q-table for Frozen-lake Problem"
   ]
  },
  {
   "cell_type": "code",
   "execution_count": 18,
   "id": "5b4153b2",
   "metadata": {},
   "outputs": [
    {
     "name": "stdout",
     "output_type": "stream",
     "text": [
      "Average score per episode: 0.086\n"
     ]
    }
   ],
   "source": [
    "env.reset()\n",
    "rewards = []\n",
    "\n",
    "# Use only exploitation to test the training\n",
    "for episode in range(total_test_episodes):\n",
    "    state = env.reset()\n",
    "    step = 0\n",
    "    done = False\n",
    "    total_reward = 0\n",
    "    \n",
    "    for steps in range(max_step):\n",
    "        action = np.argmax(q_table[state, :])\n",
    "        new_state, reward, done, info = env.step(action)\n",
    "        total_reward += reward\n",
    "        \n",
    "        if done:\n",
    "            rewards.append(total_reward)    \n",
    "#             print(\"Score \", total_reward)\n",
    "            break\n",
    "        state = new_state\n",
    "\n",
    "print(f\"Average score per episode: {sum(rewards) / total_test_episodes}\")"
   ]
  },
  {
   "cell_type": "code",
   "execution_count": null,
   "id": "a6cb87ba",
   "metadata": {},
   "outputs": [],
   "source": []
  }
 ],
 "metadata": {
  "kernelspec": {
   "display_name": "Python 3",
   "language": "python",
   "name": "python3"
  },
  "language_info": {
   "codemirror_mode": {
    "name": "ipython",
    "version": 3
   },
   "file_extension": ".py",
   "mimetype": "text/x-python",
   "name": "python",
   "nbconvert_exporter": "python",
   "pygments_lexer": "ipython3",
   "version": "3.8.10"
  }
 },
 "nbformat": 4,
 "nbformat_minor": 5
}
